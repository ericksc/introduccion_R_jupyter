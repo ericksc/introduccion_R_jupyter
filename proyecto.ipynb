{
 "cells": [
  {
   "cell_type": "markdown",
   "metadata": {},
   "source": [
    "# Proyecto Final"
   ]
  },
  {
   "cell_type": "markdown",
   "metadata": {},
   "source": [
    "# Estudio de emisiones de Dioxido de Carbono"
   ]
  },
  {
   "cell_type": "markdown",
   "metadata": {},
   "source": [
    "Se tiene un set de datos contenido en un archivo del tipo csv. El archivo es 'emisions_co2.csv'.\n"
   ]
  },
  {
   "cell_type": "markdown",
   "metadata": {},
   "source": [
    "# Pregunta 0"
   ]
  },
  {
   "cell_type": "markdown",
   "metadata": {},
   "source": [
    "Carga el archivo 'emisions_co2.csv' en un data.frame"
   ]
  },
  {
   "cell_type": "code",
   "execution_count": 9,
   "metadata": {},
   "outputs": [
    {
     "data": {
      "text/html": [
       "'data.frame'"
      ],
      "text/latex": [
       "'data.frame'"
      ],
      "text/markdown": [
       "'data.frame'"
      ],
      "text/plain": [
       "[1] \"data.frame\""
      ]
     },
     "metadata": {},
     "output_type": "display_data"
    }
   ],
   "source": [
    "# Se lee el archivo hacia un data frame \n",
    "emisions_co2_thousand_metric <- read.csv(\"emisions_co2.csv\",  \n",
    "                  header = TRUE, sep = \",\") \n",
    "    \n",
    "# Printing content of Text File \n",
    "class(emisions_co2_thousand_metric) "
   ]
  },
  {
   "cell_type": "code",
   "execution_count": 10,
   "metadata": {},
   "outputs": [
    {
     "data": {
      "text/html": [
       "<table>\n",
       "<thead><tr><th scope=col>CO2.emission.estimates</th><th scope=col>Year</th><th scope=col>Series</th><th scope=col>Value</th></tr></thead>\n",
       "<tbody>\n",
       "\t<tr><td>Albania                                           </td><td>1975                                              </td><td>Emissions (thousand metric tons of carbon dioxide)</td><td>4338.334                                          </td></tr>\n",
       "\t<tr><td>Albania                                           </td><td>1985                                              </td><td>Emissions (thousand metric tons of carbon dioxide)</td><td>6929.926                                          </td></tr>\n",
       "\t<tr><td>Albania                                           </td><td>1995                                              </td><td>Emissions (thousand metric tons of carbon dioxide)</td><td>1848.549                                          </td></tr>\n",
       "\t<tr><td>Albania                                           </td><td>2005                                              </td><td>Emissions (thousand metric tons of carbon dioxide)</td><td>3825.184                                          </td></tr>\n",
       "\t<tr><td>Albania                                           </td><td>2010                                              </td><td>Emissions (thousand metric tons of carbon dioxide)</td><td>3930.295                                          </td></tr>\n",
       "\t<tr><td>Albania                                           </td><td>2015                                              </td><td>Emissions (thousand metric tons of carbon dioxide)</td><td>3824.801                                          </td></tr>\n",
       "</tbody>\n",
       "</table>\n"
      ],
      "text/latex": [
       "\\begin{tabular}{r|llll}\n",
       " CO2.emission.estimates & Year & Series & Value\\\\\n",
       "\\hline\n",
       "\t Albania                                            & 1975                                               & Emissions (thousand metric tons of carbon dioxide) & 4338.334                                          \\\\\n",
       "\t Albania                                            & 1985                                               & Emissions (thousand metric tons of carbon dioxide) & 6929.926                                          \\\\\n",
       "\t Albania                                            & 1995                                               & Emissions (thousand metric tons of carbon dioxide) & 1848.549                                          \\\\\n",
       "\t Albania                                            & 2005                                               & Emissions (thousand metric tons of carbon dioxide) & 3825.184                                          \\\\\n",
       "\t Albania                                            & 2010                                               & Emissions (thousand metric tons of carbon dioxide) & 3930.295                                          \\\\\n",
       "\t Albania                                            & 2015                                               & Emissions (thousand metric tons of carbon dioxide) & 3824.801                                          \\\\\n",
       "\\end{tabular}\n"
      ],
      "text/markdown": [
       "\n",
       "| CO2.emission.estimates | Year | Series | Value |\n",
       "|---|---|---|---|\n",
       "| Albania                                            | 1975                                               | Emissions (thousand metric tons of carbon dioxide) | 4338.334                                           |\n",
       "| Albania                                            | 1985                                               | Emissions (thousand metric tons of carbon dioxide) | 6929.926                                           |\n",
       "| Albania                                            | 1995                                               | Emissions (thousand metric tons of carbon dioxide) | 1848.549                                           |\n",
       "| Albania                                            | 2005                                               | Emissions (thousand metric tons of carbon dioxide) | 3825.184                                           |\n",
       "| Albania                                            | 2010                                               | Emissions (thousand metric tons of carbon dioxide) | 3930.295                                           |\n",
       "| Albania                                            | 2015                                               | Emissions (thousand metric tons of carbon dioxide) | 3824.801                                           |\n",
       "\n"
      ],
      "text/plain": [
       "  CO2.emission.estimates Year\n",
       "1 Albania                1975\n",
       "2 Albania                1985\n",
       "3 Albania                1995\n",
       "4 Albania                2005\n",
       "5 Albania                2010\n",
       "6 Albania                2015\n",
       "  Series                                             Value   \n",
       "1 Emissions (thousand metric tons of carbon dioxide) 4338.334\n",
       "2 Emissions (thousand metric tons of carbon dioxide) 6929.926\n",
       "3 Emissions (thousand metric tons of carbon dioxide) 1848.549\n",
       "4 Emissions (thousand metric tons of carbon dioxide) 3825.184\n",
       "5 Emissions (thousand metric tons of carbon dioxide) 3930.295\n",
       "6 Emissions (thousand metric tons of carbon dioxide) 3824.801"
      ]
     },
     "metadata": {},
     "output_type": "display_data"
    }
   ],
   "source": [
    "head(emisions_co2_thousand_metric)"
   ]
  },
  {
   "cell_type": "markdown",
   "metadata": {},
   "source": [
    "# Pregunta 1\n"
   ]
  },
  {
   "cell_type": "markdown",
   "metadata": {},
   "source": [
    "Cuántas filas tiene el dataframe 'emisions_co2_thousand_metric'?"
   ]
  },
  {
   "cell_type": "code",
   "execution_count": 11,
   "metadata": {},
   "outputs": [],
   "source": [
    "# Coloque el código que responda a la pregunta aqui"
   ]
  },
  {
   "cell_type": "code",
   "execution_count": null,
   "metadata": {},
   "outputs": [],
   "source": []
  },
  {
   "cell_type": "markdown",
   "metadata": {},
   "source": [
    "# Pregunta 2\n"
   ]
  },
  {
   "cell_type": "markdown",
   "metadata": {},
   "source": [
    "Cuál en el valor más alto de emisiones (en general) usando el dataframe 'emisions_co2_thousand_metric'?"
   ]
  },
  {
   "cell_type": "code",
   "execution_count": 12,
   "metadata": {},
   "outputs": [],
   "source": [
    "# Coloque el código que responda a la pregunta aqui"
   ]
  },
  {
   "cell_type": "code",
   "execution_count": null,
   "metadata": {},
   "outputs": [],
   "source": []
  },
  {
   "cell_type": "markdown",
   "metadata": {},
   "source": [
    "# Pregunta 3\n"
   ]
  },
  {
   "cell_type": "markdown",
   "metadata": {},
   "source": [
    "Cuántos estados hay en el dataframe 'emisions_co2_thousand_metric'?"
   ]
  },
  {
   "cell_type": "code",
   "execution_count": 13,
   "metadata": {},
   "outputs": [],
   "source": [
    "# Coloque el código que responda a la pregunta aqui"
   ]
  },
  {
   "cell_type": "code",
   "execution_count": null,
   "metadata": {},
   "outputs": [],
   "source": []
  },
  {
   "cell_type": "markdown",
   "metadata": {},
   "source": [
    "# Pregunta 4\n"
   ]
  },
  {
   "cell_type": "markdown",
   "metadata": {},
   "source": [
    "Cuál es el estado que tiene mayor emisiones usando el dataframe 'emisions_co2_thousand_metric'?"
   ]
  },
  {
   "cell_type": "code",
   "execution_count": 14,
   "metadata": {},
   "outputs": [],
   "source": [
    "# Coloque el código que responda a la pregunta aqui"
   ]
  },
  {
   "cell_type": "code",
   "execution_count": null,
   "metadata": {},
   "outputs": [],
   "source": []
  },
  {
   "cell_type": "markdown",
   "metadata": {},
   "source": [
    "# Pregunta 5\n"
   ]
  },
  {
   "cell_type": "markdown",
   "metadata": {},
   "source": [
    "Cuál es el año que tiene mayor emisiones para el estado de Spain usando el dataframe 'emisions_co2_thousand_metric'?"
   ]
  },
  {
   "cell_type": "code",
   "execution_count": 15,
   "metadata": {},
   "outputs": [],
   "source": [
    "# Coloque el código que responda a la pregunta aqui"
   ]
  },
  {
   "cell_type": "code",
   "execution_count": null,
   "metadata": {},
   "outputs": [],
   "source": []
  },
  {
   "cell_type": "markdown",
   "metadata": {},
   "source": [
    "# Pregunta 6\n"
   ]
  },
  {
   "cell_type": "markdown",
   "metadata": {},
   "source": [
    "Cuáles son los años que se tiene registros para el dataframe 'emisions_co2_thousand_metric'?\n",
    "entrege un vector con los años sin repetirse"
   ]
  },
  {
   "cell_type": "code",
   "execution_count": 16,
   "metadata": {},
   "outputs": [],
   "source": [
    "# Coloque el código que responda a la pregunta aqui"
   ]
  },
  {
   "cell_type": "code",
   "execution_count": null,
   "metadata": {},
   "outputs": [],
   "source": []
  },
  {
   "cell_type": "markdown",
   "metadata": {},
   "source": [
    "# Pregunta 7\n"
   ]
  },
  {
   "cell_type": "markdown",
   "metadata": {},
   "source": [
    "Cuántas son las emisiones en total en 'toneladas métricas' sólo para Albania usando el dataframe 'emisions_co2_thousand_metric'?"
   ]
  },
  {
   "cell_type": "code",
   "execution_count": 17,
   "metadata": {},
   "outputs": [],
   "source": [
    "# Coloque el código que responda a la pregunta aqui"
   ]
  },
  {
   "cell_type": "code",
   "execution_count": null,
   "metadata": {},
   "outputs": [],
   "source": []
  },
  {
   "cell_type": "markdown",
   "metadata": {},
   "source": [
    "# Pregunta 8\n"
   ]
  },
  {
   "cell_type": "markdown",
   "metadata": {},
   "source": [
    "Cuántas son las emisiones en 'libras' sólo para Costa Rica usando el dataframe 'emisions_co2_thousand_metric'?"
   ]
  },
  {
   "cell_type": "code",
   "execution_count": 18,
   "metadata": {},
   "outputs": [],
   "source": [
    "# Coloque el código que responda a la pregunta aqui"
   ]
  },
  {
   "cell_type": "code",
   "execution_count": null,
   "metadata": {},
   "outputs": [],
   "source": []
  },
  {
   "cell_type": "markdown",
   "metadata": {},
   "source": [
    "# Pregunta 9\n"
   ]
  },
  {
   "cell_type": "markdown",
   "metadata": {},
   "source": [
    "Para sólo los países de Centroamérica ['El Salvador', 'Honduras', 'Guatemala', 'Costa Rica', 'Nicaragua'] obtener un gráfico de barras por año de las emisiones totales en Centroamérica usando el dataframe 'emisions_co2_thousand_metric'?"
   ]
  },
  {
   "cell_type": "code",
   "execution_count": 19,
   "metadata": {},
   "outputs": [],
   "source": [
    "# Coloque el código que responda a la pregunta aqui"
   ]
  },
  {
   "cell_type": "code",
   "execution_count": null,
   "metadata": {},
   "outputs": [],
   "source": []
  },
  {
   "cell_type": "code",
   "execution_count": null,
   "metadata": {},
   "outputs": [],
   "source": []
  }
 ],
 "metadata": {
  "kernelspec": {
   "display_name": "R",
   "language": "R",
   "name": "ir"
  },
  "language_info": {
   "codemirror_mode": "r",
   "file_extension": ".r",
   "mimetype": "text/x-r-source",
   "name": "R",
   "pygments_lexer": "r",
   "version": "3.6.1"
  }
 },
 "nbformat": 4,
 "nbformat_minor": 2
}
